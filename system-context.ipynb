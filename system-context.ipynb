{
 "cells": [
  {
   "cell_type": "code",
   "execution_count": 4,
   "metadata": {
    "jupyter": {
     "is_executing": true
    }
   },
   "outputs": [],
   "source": [
    "from dotenv import load_dotenv\n",
    "import os\n",
    "import gradio as gr\n",
    "from swarmauri.standard.llms.concrete.GroqModel import GroqModel\n",
    "from swarmauri.standard.messages.concrete.SystemMessage import SystemMessage\n",
    "from swarmauri.standard.agents.concrete.SimpleConversationAgent import SimpleConversationAgent\n",
    "from swarmauri.standard.conversations.concrete.MaxSystemContextConversation import MaxSystemContextConversation\n"
   ]
  },
  {
   "cell_type": "code",
   "execution_count": 5,
   "metadata": {},
   "outputs": [],
   "source": [
    "\n",
    "load_dotenv()\n",
    "\n",
    "API_KEY = os.getenv(\"GROQ_API_KEY\")\n",
    "\n",
    "llm = GroqModel(api_key=API_KEY)\n",
    "allowed_models = llm.allowed_models\n",
    "\n",
    "conversation = MaxSystemContextConversation()\n"
   ]
  },
  {
   "cell_type": "code",
   "execution_count": 6,
   "metadata": {},
   "outputs": [
    {
     "name": "stdout",
     "output_type": "stream",
     "text": [
      "Running on local URL:  http://127.0.0.1:7861\n",
      "\n",
      "To create a public link, set `share=True` in `launch()`.\n"
     ]
    },
    {
     "data": {
      "text/html": [
       "<div><iframe src=\"http://127.0.0.1:7861/\" width=\"100%\" height=\"500\" allow=\"autoplay; camera; microphone; clipboard-read; clipboard-write;\" frameborder=\"0\" allowfullscreen></iframe></div>"
      ],
      "text/plain": [
       "<IPython.core.display.HTML object>"
      ]
     },
     "metadata": {},
     "output_type": "display_data"
    },
    {
     "name": "stdout",
     "output_type": "stream",
     "text": [
      "IMPORTANT: You are using gradio version 4.26.0, however version 4.29.0 is available, please upgrade.\n",
      "--------\n"
     ]
    }
   ],
   "source": [
    "def load_model(selected_model):\n",
    "    return GroqModel(api_key=API_KEY, name=selected_model)\n",
    "\n",
    "def converse(input_text, system_context, model_name):\n",
    "    print(f\"system_context: {system_context}\")\n",
    "    print(f\"Selected model: {model_name}\")\n",
    "    \n",
    "    llm = load_model(model_name)\n",
    "    \n",
    "    agent = SimpleConversationAgent(llm=llm, conversation=conversation)\n",
    "    agent.conversation.system_context = SystemMessage(content=system_context)\n",
    "    \n",
    "    input_text = str(input_text)\n",
    "    print(conversation.history)\n",
    "    result = agent.exec(input_text)\n",
    "    print(result, type(result))\n",
    "    \n",
    "    return str(result)\n",
    "\n",
    "\n",
    "demo = gr.ChatInterface(\n",
    "    fn=converse,\n",
    "    additional_inputs=[\n",
    "        gr.Textbox(label='System Context'),\n",
    "        gr.Dropdown(label='Model Name', choices=allowed_models, value=allowed_models[0])\n",
    "    ],\n",
    "    title='A sytem context conversation',\n",
    "    description='Interact with the agent using a selected model and system context'\n",
    ")\n",
    "\n",
    "if __name__ == \"__main__\":\n",
    "    demo.launch()"
   ]
  },
  {
   "cell_type": "code",
   "execution_count": null,
   "metadata": {},
   "outputs": [],
   "source": []
  }
 ],
 "metadata": {
  "kernelspec": {
   "display_name": "Python 3 (ipykernel)",
   "language": "python",
   "name": "python3"
  },
  "language_info": {
   "codemirror_mode": {
    "name": "ipython",
    "version": 3
   },
   "file_extension": ".py",
   "mimetype": "text/x-python",
   "name": "python",
   "nbconvert_exporter": "python",
   "pygments_lexer": "ipython3",
   "version": "3.10.11"
  }
 },
 "nbformat": 4,
 "nbformat_minor": 4
}
